{
  "cells": [
    {
      "cell_type": "code",
      "execution_count": 7,
      "metadata": {
        "id": "zq1juT-2nfgA"
      },
      "outputs": [],
      "source": [
        "import numpy as np\n",
        "import pandas as pd\n",
        "import tensorflow as tf\n",
        "import re\n",
        "from tensorflow.keras.preprocessing.text import one_hot\n",
        "import matplotlib.pyplot as py\n",
        "from tensorflow.keras.models import Sequential,load_model\n",
        "from sklearn.model_selection import train_test_split\n"
      ]
    },
    {
      "cell_type": "code",
      "execution_count": null,
      "metadata": {
        "colab": {
          "base_uri": "https://localhost:8080/"
        },
        "id": "82Cxx6driP9i",
        "outputId": "21e74b6b-52ea-4def-f218-26941b93de8d"
      },
      "outputs": [
        {
          "name": "stdout",
          "output_type": "stream",
          "text": [
            "Drive already mounted at /content/drive; to attempt to forcibly remount, call drive.mount(\"/content/drive\", force_remount=True).\n"
          ]
        }
      ],
      "source": [
        "from google.colab import drive\n",
        "drive.mount('/content/drive')"
      ]
    },
    {
      "cell_type": "code",
      "execution_count": 10,
      "metadata": {
        "colab": {
          "base_uri": "https://localhost:8080/",
          "height": 245
        },
        "id": "B9MaRashj49_",
        "outputId": "f90d9b7e-1cbf-43cc-cbe3-4b6d028b3cd0"
      },
      "outputs": [
        {
          "output_type": "error",
          "ename": "KeyboardInterrupt",
          "evalue": "",
          "traceback": [
            "\u001b[0;31m---------------------------------------------------------------------------\u001b[0m",
            "\u001b[0;31mKeyboardInterrupt\u001b[0m                         Traceback (most recent call last)",
            "\u001b[0;32m<ipython-input-10-bb325d116564>\u001b[0m in \u001b[0;36m<cell line: 26>\u001b[0;34m()\u001b[0m\n\u001b[1;32m     27\u001b[0m     \u001b[0mclass_path\u001b[0m \u001b[0;34m=\u001b[0m \u001b[0mos\u001b[0m\u001b[0;34m.\u001b[0m\u001b[0mpath\u001b[0m\u001b[0;34m.\u001b[0m\u001b[0mjoin\u001b[0m\u001b[0;34m(\u001b[0m\u001b[0mmain_directory\u001b[0m\u001b[0;34m,\u001b[0m \u001b[0mclass_name\u001b[0m\u001b[0;34m)\u001b[0m\u001b[0;34m\u001b[0m\u001b[0;34m\u001b[0m\u001b[0m\n\u001b[1;32m     28\u001b[0m     \u001b[0;32mif\u001b[0m \u001b[0mos\u001b[0m\u001b[0;34m.\u001b[0m\u001b[0mpath\u001b[0m\u001b[0;34m.\u001b[0m\u001b[0misdir\u001b[0m\u001b[0;34m(\u001b[0m\u001b[0mclass_path\u001b[0m\u001b[0;34m)\u001b[0m\u001b[0;34m:\u001b[0m\u001b[0;34m\u001b[0m\u001b[0;34m\u001b[0m\u001b[0m\n\u001b[0;32m---> 29\u001b[0;31m         \u001b[0mnum_samples\u001b[0m \u001b[0;34m=\u001b[0m \u001b[0mlen\u001b[0m\u001b[0;34m(\u001b[0m\u001b[0mos\u001b[0m\u001b[0;34m.\u001b[0m\u001b[0mlistdir\u001b[0m\u001b[0;34m(\u001b[0m\u001b[0mclass_path\u001b[0m\u001b[0;34m)\u001b[0m\u001b[0;34m)\u001b[0m\u001b[0;34m\u001b[0m\u001b[0;34m\u001b[0m\u001b[0m\n\u001b[0m\u001b[1;32m     30\u001b[0m         \u001b[0msamples_per_class\u001b[0m\u001b[0;34m[\u001b[0m\u001b[0mclass_name\u001b[0m\u001b[0;34m]\u001b[0m \u001b[0;34m=\u001b[0m \u001b[0mnum_samples\u001b[0m\u001b[0;34m\u001b[0m\u001b[0;34m\u001b[0m\u001b[0m\n\u001b[1;32m     31\u001b[0m         \u001b[0mmin_samples\u001b[0m \u001b[0;34m=\u001b[0m \u001b[0mmin\u001b[0m\u001b[0;34m(\u001b[0m\u001b[0mmin_samples\u001b[0m\u001b[0;34m,\u001b[0m \u001b[0mnum_samples\u001b[0m\u001b[0;34m)\u001b[0m\u001b[0;34m\u001b[0m\u001b[0;34m\u001b[0m\u001b[0m\n",
            "\u001b[0;31mKeyboardInterrupt\u001b[0m: "
          ]
        }
      ],
      "source": [
        "import os\n",
        "import shutil\n",
        "from tensorflow.keras.optimizers import Adam\n",
        "\n",
        "def keep_first_n_images(directory, n):\n",
        "    # Get the list of files in the directory\n",
        "    files = os.listdir(directory)\n",
        "\n",
        "    # Sort the files to ensure consistent order\n",
        "    files.sort()\n",
        "\n",
        "    # Keep the first n files and delete the rest\n",
        "    for file_name in files[n:]:\n",
        "        file_path = os.path.join(directory, file_name)\n",
        "        os.remove(file_path)\n",
        "\n",
        "directory_path = '/content/drive/MyDrive/data'\n"
      ]
    },
    {
      "cell_type": "code",
      "execution_count": 2,
      "metadata": {
        "id": "lLcMHvFwzgPI",
        "colab": {
          "base_uri": "https://localhost:8080/"
        },
        "outputId": "4c655ca8-2001-4c3e-9a51-c70e07ef50c3"
      },
      "outputs": [
        {
          "output_type": "stream",
          "name": "stdout",
          "text": [
            "Found 8993 images belonging to 5 classes.\n",
            "Found 2246 images belonging to 5 classes.\n"
          ]
        }
      ],
      "source": [
        "from tensorflow.keras.preprocessing.image import ImageDataGenerator\n",
        "\n",
        "main_directory = '/content/drive/MyDrive/data'\n",
        "\n",
        "# Define image dimensions and batch size\n",
        "img_height, img_width = 224, 224\n",
        "batch_size = 32\n",
        "\n",
        "# Use ImageDataGenerator for data augmentation and normalization\n",
        "datagen = ImageDataGenerator(\n",
        "    rescale=1./255,\n",
        "    shear_range=0.2,\n",
        "    zoom_range=0.2,\n",
        "    horizontal_flip=True,\n",
        "    validation_split=0.2  # Set the validation split\n",
        ")\n",
        "\n",
        "# Create training data generator\n",
        "train_generator = datagen.flow_from_directory(\n",
        "    main_directory,\n",
        "    target_size=(img_height, img_width),\n",
        "    batch_size=batch_size,\n",
        "    class_mode='categorical',\n",
        "    subset='training'  # Specify 'training' for training data\n",
        ")\n",
        "\n",
        "# Create validation data generator\n",
        "validation_generator = datagen.flow_from_directory(\n",
        "    main_directory,\n",
        "    target_size=(img_height, img_width),\n",
        "    batch_size=batch_size,\n",
        "    class_mode='categorical',\n",
        "    subset='validation'  # Specify 'validation' for validation data\n",
        ")"
      ]
    },
    {
      "cell_type": "code",
      "execution_count": 5,
      "metadata": {
        "colab": {
          "base_uri": "https://localhost:8080/",
          "height": 472
        },
        "id": "YMZSNc87jFEB",
        "outputId": "04064409-32ab-4e5a-8f34-04c44088cb4c"
      },
      "outputs": [
        {
          "output_type": "display_data",
          "data": {
            "text/plain": [
              "<Figure size 640x480 with 1 Axes>"
            ],
            "image/png": "[encoded data removed]"
          },
          "metadata": {}
        }
      ],
      "source": [
        "import matplotlib.pyplot as plt\n",
        "import numpy as np\n",
        "\n",
        "# Get the class indices from the generator\n",
        "class_indices = train_generator.class_indices\n",
        "\n",
        "# Invert the dictionary to map class indices to class labels\n",
        "class_labels = {v: k for k, v in class_indices.items()}\n",
        "\n",
        "# Get the class counts from the generator\n",
        "class_counts = train_generator.classes\n",
        "\n",
        "# Count occurrences of each class\n",
        "unique_classes, counts = np.unique(class_counts, return_counts=True)\n",
        "\n",
        "# Map class indices to class labels for plotting\n",
        "class_labels_for_plot = [class_labels[idx] for idx in unique_classes]\n",
        "\n",
        "# Plot the bar graph\n",
        "plt.bar(class_labels_for_plot, counts)\n",
        "plt.xlabel('Class')\n",
        "plt.ylabel('Count')\n",
        "plt.title('Class Distribution')\n",
        "plt.show()\n"
      ]
    },
    {
      "cell_type": "code",
      "execution_count": null,
      "metadata": {
        "colab": {
          "base_uri": "https://localhost:8080/"
        },
        "id": "ohjGWycknjcT",
        "outputId": "01f45b1b-1712-40b7-939d-2b35941c5399"
      },
      "outputs": [
        {
          "output_type": "stream",
          "name": "stdout",
          "text": [
            "Epoch 1/10\n",
            "281/281 [==============================] - 3045s 11s/step - loss: 1.8414 - accuracy: 0.2541 - val_loss: 1.5499 - val_accuracy: 0.2580\n",
            "Epoch 2/10\n",
            "281/281 [==============================] - 1115s 4s/step - loss: 1.5407 - accuracy: 0.2870 - val_loss: 1.4978 - val_accuracy: 0.3246\n",
            "Epoch 3/10\n",
            "281/281 [==============================] - 1101s 4s/step - loss: 1.4640 - accuracy: 0.3304 - val_loss: 1.4412 - val_accuracy: 0.3442\n",
            "Epoch 4/10\n",
            "281/281 [==============================] - 1107s 4s/step - loss: 1.4200 - accuracy: 0.3594 - val_loss: 1.4187 - val_accuracy: 0.3634\n",
            "Epoch 5/10\n",
            "281/281 [==============================] - 1058s 4s/step - loss: 1.3864 - accuracy: 0.3804 - val_loss: 1.4003 - val_accuracy: 0.3701\n",
            "Epoch 6/10\n",
            " 91/281 [========>.....................] - ETA: 10:28 - loss: 1.3781 - accuracy: 0.3846"
          ]
        }
      ],
      "source": [
        "\n",
        "\n",
        "\n",
        "# Define your CNN model using TensorFlow's Keras API\n",
        "model = tf.keras.models.Sequential([\n",
        "    tf.keras.layers.Conv2D(32, (3, 3), activation='relu', input_shape=(img_height, img_width, 3)),\n",
        "    tf.keras.layers.MaxPooling2D(2, 2),\n",
        "    tf.keras.layers.Conv2D(64, (3, 3), activation='relu'),\n",
        "    tf.keras.layers.MaxPooling2D(2, 2),\n",
        "    tf.keras.layers.Flatten(),\n",
        "    tf.keras.layers.Dense(128, activation='relu'),\n",
        "    tf.keras.layers.Dense(5, activation='softmax')  # 4 classes for diseases\n",
        "])\n",
        "\n",
        "# Compile the model\n",
        "model.compile(optimizer='adam', loss='categorical_crossentropy', metrics=['accuracy'])\n",
        "\n",
        "# Train the model\n",
        "model.fit(\n",
        "    train_generator,\n",
        "    steps_per_epoch=train_generator.samples // batch_size,\n",
        "    validation_data=validation_generator,\n",
        "    validation_steps=validation_generator.samples // batch_size,\n",
        "    epochs=10  # Set the number of epochs\n",
        ")\n"
      ]
    },
    {
      "cell_type": "markdown",
      "source": [],
      "metadata": {
        "id": "MtGrk9dTpcZP"
      }
    }
  ],
  "metadata": {
    "colab": {
      "provenance": []
    },
    "kernelspec": {
      "display_name": "Python 3",
      "name": "python3"
    },
    "language_info": {
      "name": "python"
    }
  },
  "nbformat": 4,
  "nbformat_minor": 0
}